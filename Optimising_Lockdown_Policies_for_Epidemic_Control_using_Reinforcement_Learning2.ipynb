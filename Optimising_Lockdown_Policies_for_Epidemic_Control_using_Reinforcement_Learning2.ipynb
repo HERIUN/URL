{
  "nbformat": 4,
  "nbformat_minor": 0,
  "metadata": {
    "colab": {
      "name": "Optimising Lockdown Policies for Epidemic Control using Reinforcement Learning2.ipynb",
      "provenance": []
    },
    "kernelspec": {
      "name": "python3",
      "display_name": "Python 3"
    },
    "accelerator": "GPU"
  },
  "cells": [
    {
      "cell_type": "markdown",
      "metadata": {
        "id": "X4puXQCLSrae",
        "colab_type": "text"
      },
      "source": [
        "# Optimising Lockdown Policies for Epidemic Control using Reinforcement Learning\n",
        "---\n",
        "\n"
      ]
    },
    {
      "cell_type": "markdown",
      "metadata": {
        "id": "-LI0xUe0YTDN",
        "colab_type": "text"
      },
      "source": [
        "[![Open In Colab](https://colab.research.google.com/assets/colab-badge.svg)](https://colab.research.google.com/github/xkotaro/lockdowneR/blob/master/test.ipynb)"
      ]
    },
    {
      "cell_type": "markdown",
      "metadata": {
        "id": "bhJQTtxGXD9i",
        "colab_type": "text"
      },
      "source": [
        "## Install dependencies"
      ]
    },
    {
      "cell_type": "code",
      "metadata": {
        "id": "GjQnbVal9Sku",
        "colab_type": "code",
        "colab": {
          "base_uri": "https://localhost:8080/",
          "height": 134
        },
        "outputId": "c2dd2151-03be-4d9c-e1ca-976265370776"
      },
      "source": [
        "# If you are running on Google Colab, uncomment below to install the necessary dependencies \n",
        "# before beginning the exercise.\n",
        "\n",
        "print(\"Setting up colab environment\")\n",
        "!pip uninstall -y -q pyarrow\n",
        "!pip install -q https://s3-us-west-2.amazonaws.com/ray-wheels/latest/ray-0.8.0.dev5-cp36-cp36m-manylinux1_x86_64.whl\n",
        "!pip install -q ray[debug]\n",
        "\n",
        "# A hack to force the runtime to restart, needed to include the above dependencies.\n",
        "print(\"Done installing! Restarting via forced crash (this is not an issue).\")\n",
        "import os\n",
        "os._exit(0)"
      ],
      "execution_count": null,
      "outputs": [
        {
          "output_type": "stream",
          "text": [
            "Setting up colab environment\n",
            "\u001b[K     |████████████████████████████████| 75.9MB 41kB/s \n",
            "\u001b[K     |████████████████████████████████| 81kB 4.8MB/s \n",
            "\u001b[K     |████████████████████████████████| 2.9MB 6.5MB/s \n",
            "\u001b[?25h  Building wheel for setproctitle (setup.py) ... \u001b[?25l\u001b[?25hdone\n"
          ],
          "name": "stdout"
        }
      ]
    },
    {
      "cell_type": "code",
      "metadata": {
        "id": "SeEXYP08F6EO",
        "colab_type": "code",
        "colab": {
          "base_uri": "https://localhost:8080/",
          "height": 158
        },
        "outputId": "a90c4f71-68c8-4449-d3f0-e438a42731c1"
      },
      "source": [
        "# !pip install -U ray\n",
        "# !pip install tree\n",
        "\n",
        "!pip install -q https://files.pythonhosted.org/packages/25/26/80a5b9f68e09d75da924eb9702edeffa9e141d7bc252a27ce6fe178b7b6d/ray-0.8.4-cp36-cp36m-manylinux1_x86_64.whl\n",
        "!pip install -q https://files.pythonhosted.org/packages/7c/39/7eb5f98d24904e0f6d3edb505d4aa60e3ef83c0a58d6fe18244a51757247/aiohttp-3.6.2-cp36-cp36m-manylinux1_x86_64.whl\n",
        "!pip install -q https://files.pythonhosted.org/packages/30/2e/3ab2f1fb72571f75013db323a3799d505d99f3bc203513604f1ffb9b7858/multidict-4.7.5-cp36-cp36m-manylinux1_x86_64.whl\n",
        "!pip install -q https://files.pythonhosted.org/packages/e1/1e/5a4441be21b0726c4464f3f23c8b19628372f606755a9d2e46c187e65ec4/async_timeout-3.0.1-py3-none-any.whl\n",
        "!pip install -q https://files.pythonhosted.org/packages/46/03/07c4894aae38b0de52b52586b24bf189bb83e4ddabfe2e2c8f2419eec6f4/idna-ssl-1.1.0.tar.gz\n",
        "!pip install -q https://files.pythonhosted.org/packages/95/8f/0209fc5d975f839344c33c822ff2f7ef80f6b1e984673a5a68f960bfa583/yarl-1.4.2-cp36-cp36m-manylinux1_x86_64.whl"
      ],
      "execution_count": 1,
      "outputs": [
        {
          "output_type": "stream",
          "text": [
            "\u001b[K     |████████████████████████████████| 20.2MB 159kB/s \n",
            "\u001b[K     |████████████████████████████████| 1.2MB 44.8MB/s \n",
            "\u001b[K     |████████████████████████████████| 153kB 56.4MB/s \n",
            "\u001b[K     |████████████████████████████████| 266kB 53.1MB/s \n",
            "\u001b[?25h  Building wheel for idna-ssl (setup.py) ... \u001b[?25l\u001b[?25hdone\n",
            "\u001b[K     |████████████████████████████████| 153kB 5.3MB/s \n",
            "\u001b[?25h  Building wheel for idna-ssl (setup.py) ... \u001b[?25l\u001b[?25hdone\n",
            "\u001b[K     |████████████████████████████████| 256kB 5.7MB/s \n",
            "\u001b[?25h"
          ],
          "name": "stdout"
        }
      ]
    },
    {
      "cell_type": "code",
      "metadata": {
        "id": "jTpllXiDV-ID",
        "colab_type": "code",
        "colab": {}
      },
      "source": [
        "import copy\n",
        "import numpy as np\n",
        "from numpy import random\n",
        "import pandas as pd\n",
        "from scipy.spatial.distance import pdist\n",
        "from scipy.spatial.distance import squareform\n",
        "import scipy.integrate\n",
        "\n",
        "\n",
        "import networkx as nx\n",
        "import matplotlib.pyplot as plt\n",
        "\n",
        "import gym\n",
        "\n",
        "from tqdm.notebook import tqdm\n",
        "\n",
        "import datetime"
      ],
      "execution_count": 3,
      "outputs": []
    },
    {
      "cell_type": "code",
      "metadata": {
        "id": "tqDf0WNl9USp",
        "colab_type": "code",
        "colab": {}
      },
      "source": [
        "# If you are running on Google Colab, please install TensorFlow 2.0 by uncommenting below..\n",
        "\n",
        "try:\n",
        "  # %tensorflow_version only exists in Colab.\n",
        "  %tensorflow_version 2.x\n",
        "except Exception:\n",
        "  pass"
      ],
      "execution_count": 3,
      "outputs": []
    },
    {
      "cell_type": "code",
      "metadata": {
        "id": "u2tTWY6pMkID",
        "colab_type": "code",
        "colab": {
          "base_uri": "https://localhost:8080/",
          "height": 105
        },
        "outputId": "0e36edb8-d421-402c-fcb4-f707dac6cb33"
      },
      "source": [
        "!pip install lz4"
      ],
      "execution_count": 4,
      "outputs": [
        {
          "output_type": "stream",
          "text": [
            "Collecting lz4\n",
            "\u001b[?25l  Downloading https://files.pythonhosted.org/packages/15/6a/ea95dd9a9957143636cfad5037637abec91016b9bde519d3edf4708e3d83/lz4-3.1.0-cp36-cp36m-manylinux2010_x86_64.whl (1.8MB)\n",
            "\u001b[K     |████████████████████████████████| 1.8MB 4.6MB/s \n",
            "\u001b[?25hInstalling collected packages: lz4\n",
            "Successfully installed lz4-3.1.0\n"
          ],
          "name": "stdout"
        }
      ]
    },
    {
      "cell_type": "code",
      "metadata": {
        "id": "xW_yLYvT8ivB",
        "colab_type": "code",
        "colab": {}
      },
      "source": [
        "from ray.rllib.env.multi_agent_env import MultiAgentEnv\n",
        "from ray.rllib.models import ModelCatalog"
      ],
      "execution_count": 5,
      "outputs": []
    },
    {
      "cell_type": "markdown",
      "metadata": {
        "id": "mStUdALGaIq0",
        "colab_type": "text"
      },
      "source": [
        "## Check to see the artificial data"
      ]
    },
    {
      "cell_type": "code",
      "metadata": {
        "id": "4cRCTj0F91KG",
        "colab_type": "code",
        "colab": {}
      },
      "source": [
        "POPULATION = 51829538\n",
        "NUM_CITIES = 17"
      ],
      "execution_count": 5,
      "outputs": []
    },
    {
      "cell_type": "markdown",
      "metadata": {
        "id": "r7sJ0SXv0-eS",
        "colab_type": "text"
      },
      "source": [
        "![image.png](data:image/png;base64,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)"
      ]
    },
    {
      "cell_type": "code",
      "metadata": {
        "id": "-dyz3E7k7Zqn",
        "colab_type": "code",
        "colab": {}
      },
      "source": [
        "population = np.random.randint(1, 3, NUM_CITIES).astype('int64')\n",
        "population[0] = 9770638\n",
        "population[1] = 3436230\n",
        "population[2] = 2458138\n",
        "population[3] = 2956063\n",
        "population[4] = 1459208\n",
        "population[5] = 1487605\n",
        "population[6] = 1153735\n",
        "population[7] = 320326\n",
        "population[8] = 13104696\n",
        "population[9] = 1540445\n",
        "population[10] = 1598868\n",
        "population[11] = 2125372\n",
        "population[12] = 1832227\n",
        "population[13] = 1875862\n",
        "population[14] = 2671587\n",
        "population[15] = 3371016\n",
        "population[16] = 667522"
      ],
      "execution_count": 6,
      "outputs": []
    },
    {
      "cell_type": "markdown",
      "metadata": {
        "id": "r5i-YDN21YRs",
        "colab_type": "text"
      },
      "source": [
        "서울 : 37.5665, 126.9780\n",
        "부산 : 35.1796, 129.0756\n",
        "대구 : 35.8714, 128.6014\n",
        "인천 : 37.4563, 126.7052\n",
        "광주 : 35.1595, 126.8526\n",
        "대전 : 36.3504, 127.3845\n",
        "울산 : 35.5384, 129.3114\n",
        "세종 : 36.5, 127.266667\n",
        "경기 : 37.4138, 127.5183\n",
        "강원 : 37.8228, 128.1555\n",
        "충북 : 36.8000, 127.7000\n",
        "충남 : 36.5184, 126.8000\n",
        "전북 : 35.7175, 127.1530\n",
        "전남 : 34.8679, 126.9910\n",
        "경북 : 36.4919, 128.8889\n",
        "경남 : 35.4606, 128.2132\n",
        "제주 : 33.4996, 126.5312"
      ]
    },
    {
      "cell_type": "code",
      "metadata": {
        "id": "vuVt6-NLQcB5",
        "colab_type": "code",
        "colab": {}
      },
      "source": [
        "locs = np.random.rand(NUM_CITIES, 2)\n",
        "locs[0] = [37.5665, 126.9780]\n",
        "locs[1] = [35.1796, 129.0756]\n",
        "locs[2] = [ 35.8714, 128.6014]\n",
        "locs[3] = [ 37.4563, 126.7052]\n",
        "locs[4] = [35.1595, 126.8526]\n",
        "locs[5] = [36.3504, 127.3845]\n",
        "locs[6] = [35.5384, 129.3114]\n",
        "locs[7] = [36.5, 127.266667]\n",
        "locs[8] = [37.4138, 127.5183]\n",
        "locs[9] = [37.8228, 128.1555]\n",
        "locs[10] = [36.8000, 127.7000]\n",
        "locs[11] = [36.5184, 126.8000]\n",
        "locs[12] = [35.7175, 127.1530]\n",
        "locs[13] = [34.8679, 126.9910]\n",
        "locs[14] = [36.4919, 128.8889]\n",
        "locs[15] = [35.4606, 128.2132]\n",
        "locs[16] = [33.4996, 126.5312]"
      ],
      "execution_count": 18,
      "outputs": []
    },
    {
      "cell_type": "code",
      "metadata": {
        "id": "WIeSkeGUaRNt",
        "colab_type": "code",
        "colab": {}
      },
      "source": [
        "A = np.outer(population,population)/(np.sqrt(squareform(pdist(locs)))+np.eye(len(locs)))#마지막 항은 0으로 나눠주지 않게하기 위한 수작.\n",
        "np.fill_diagonal(A, 0)\n",
        "A = A/np.max(A) "
      ],
      "execution_count": 8,
      "outputs": []
    },
    {
      "cell_type": "code",
      "metadata": {
        "id": "5LBEWPrmaGCQ",
        "colab_type": "code",
        "colab": {}
      },
      "source": [
        "G = nx.from_numpy_array(A)\n",
        "node_colors = [0] * len(A) #이건 왜이렇게 햇지? [0*100]\n",
        "node_sizes = population.tolist() # 인구많을수록 노드크기 커짐\n",
        "cmap = plt.cm.jet\n",
        "\n",
        "pos = {\n",
        "        n: locs[i]\n",
        "        for i, n in enumerate(G.nodes)\n",
        "    }\n",
        "\n",
        "\n",
        "# for key in list(dic):\n",
        "#     dic.pop(key)\n",
        "\n",
        "# for (u,v,d) in list(G.edges(data=True)): \n",
        "#     if d[\"weight\"] <= 0.12: #엣지의 강도가 0.12보다 낮으면 없앴구만!!\n",
        "#         G.remove_edge(u, v)\n",
        "\n",
        "plt.figure(figsize=(10,10))\n",
        "nx.draw_networkx(G,\n",
        "                 pos,\n",
        "                 with_labels=None,\n",
        "                 node_color=node_colors,\n",
        "                 node_size=node_sizes,\n",
        "                 edge_color='C',\n",
        "                 alpha=0.6\n",
        "                 )\n",
        "plt.grid(True)\n",
        "plt.show()"
      ],
      "execution_count": null,
      "outputs": []
    },
    {
      "cell_type": "markdown",
      "metadata": {
        "id": "Ot5MptSBXOIF",
        "colab_type": "text"
      },
      "source": [
        "## Class for the epidemic model"
      ]
    },
    {
      "cell_type": "code",
      "metadata": {
        "id": "WMDH__TD8YXT",
        "colab_type": "code",
        "colab": {}
      },
      "source": [
        "class EpiModel(object):\n",
        "# Taken from https://github.com/DataForScience/Epidemiology101/\n",
        "    def __init__(self, compartments=None):\n",
        "        self.transitions = nx.MultiDiGraph()\n",
        "        \n",
        "        if compartments is not None:\n",
        "            self.transitions.add_nodes_from([comp for comp in compartments])\n",
        "    \n",
        "    def add_interaction(self, source, target, agent, rate):        \n",
        "        self.transitions.add_edge(source, target, agent=agent, rate=rate)        \n",
        "        \n",
        "    def add_spontaneous(self, source, target, rate):\n",
        "        self.transitions.add_edge(source, target, rate=rate)\n",
        "        \n",
        "    def _new_cases(self, population, time, pos):\n",
        "        diff = np.zeros(len(pos))\n",
        "        N = np.sum(population)        \n",
        "        \n",
        "        for edge in self.transitions.edges(data=True):\n",
        "            source = edge[0]\n",
        "            target = edge[1]\n",
        "            trans = edge[2]\n",
        "            \n",
        "            rate = trans['rate']*population[pos[source]]\n",
        "            \n",
        "            if 'agent' in trans:\n",
        "                agent = trans['agent']\n",
        "                rate *= population[pos[agent]]/N\n",
        "                \n",
        "            diff[pos[source]] -= rate\n",
        "            diff[pos[target]] += rate\n",
        "            \n",
        "        return diff\n",
        "    \n",
        "    def __getattr__(self, name):\n",
        "        if 'values_' in self.__dict__:\n",
        "            return self.values_[name]\n",
        "        else:\n",
        "            raise AttributeError(\"'EpiModel' object has no attribute '%s'\" % name)\n",
        "\n",
        "    def simulate(self, timesteps, **kwargs):\n",
        "        pos = {comp: i for i, comp in enumerate(kwargs)}\n",
        "        population=np.zeros(len(pos), dtype='int')\n",
        "\n",
        "        for comp in pos:\n",
        "            population[pos[comp]] = kwargs[comp]\n",
        "\n",
        "        values = []\n",
        "        values.append(population)\n",
        "\n",
        "        comps = list(self.transitions.nodes)\n",
        "        time = np.arange(1, timesteps, 1, dtype='int')\n",
        "\n",
        "        for t in time:\n",
        "            pop = values[-1]\n",
        "            new_pop = values[-1].copy()\n",
        "            N = np.sum(pop)\n",
        "\n",
        "\n",
        "            for comp in comps:\n",
        "                trans = list(self.transitions.edges(comp, data=True))             \n",
        "\n",
        "                prob = np.zeros(len(comps), dtype='float')\n",
        "\n",
        "                for _, node_j, data in trans:\n",
        "                    source = pos[comp]\n",
        "                    target = pos[node_j]\n",
        "\n",
        "                    rate = data['rate']\n",
        "\n",
        "                    if 'agent' in data:\n",
        "                        agent = pos[data['agent']]\n",
        "                        rate *= pop[agent]/N\n",
        "\n",
        "                    prob[target] = rate\n",
        "\n",
        "                prob[source] = 1-np.sum(prob)\n",
        "\n",
        "                delta = random.multinomial(pop[source], prob)\n",
        "                delta[source] = 0\n",
        "\n",
        "                changes = np.sum(delta)\n",
        "\n",
        "                if changes == 0:\n",
        "                    continue\n",
        "\n",
        "                new_pop[source] -= changes\n",
        "\n",
        "                for i in range(len(delta)):\n",
        "                    new_pop[i] += delta[i]\n",
        "\n",
        "            values.append(new_pop)\n",
        "\n",
        "        values = np.array(values)\n",
        "        self.values_ = pd.DataFrame(values[1:], columns=comps, index=time)\n",
        "    \n",
        "    def integrate(self, timesteps, **kwargs):\n",
        "        pos = {comp: i for i, comp in enumerate(kwargs)}\n",
        "        population=np.zeros(len(pos))\n",
        "        \n",
        "        for comp in pos:\n",
        "            population[pos[comp]] = kwargs[comp]\n",
        "        \n",
        "        time = np.arange(1, timesteps, 1)\n",
        "\n",
        "        self.values_ = pd.DataFrame(scipy.integrate.odeint(self._new_cases, population, time, args=(pos,)), columns=pos.keys(), index=time)"
      ],
      "execution_count": 7,
      "outputs": []
    },
    {
      "cell_type": "markdown",
      "metadata": {
        "id": "0iUAhI_CXUvr",
        "colab_type": "text"
      },
      "source": [
        "## Make Gym Environment"
      ]
    },
    {
      "cell_type": "code",
      "metadata": {
        "id": "McHwYE_d8lLB",
        "colab_type": "code",
        "colab": {}
      },
      "source": [
        "class Game(MultiAgentEnv):\n",
        "    \n",
        "    def __init__(self):\n",
        "        self.NUM_CITIES = 17\n",
        "        \n",
        "        \n",
        "        self.NUM_INITIAL_INFECTED = 50\n",
        "        self.POPULATION = 51829538\n",
        "        \n",
        "        self.num_agents = 3\n",
        "        self.agent_ids = list(range(self.num_agents))\n",
        "        \n",
        "        self.action_space_dict = dict(zip(self.agent_ids, [gym.spaces.Discrete(2)] * self.num_agents))\n",
        "        self.observation_space_dict = dict(zip(self.agent_ids, [\n",
        "            gym.spaces.Box(low=-np.inf, high=np.inf, shape=(8,))] * self.num_agents))\n",
        "\n",
        "        self.C_DEAD = 25 #사망자에 대한 패널티 논문에선 2.5*10^9\n",
        "        self.C_INF = 10 #감염자에 대한 패널티 논문에선 5*10^5\n",
        "        self.C_LOCK = 10 #락다운에 대한 패널티 논문에선 1/364\n",
        "        self.C_RECOVER = -2\n",
        "        self.C_ALPHA = 2\n",
        "        self.C_BETA = 0.001\n",
        "\n",
        "        self.week = 0\n",
        "        self.max_week = 52\n",
        "\n",
        "        self.global_susceptible = np.zeros(364)\n",
        "        self.global_exposed = np.zeros(364)\n",
        "        self.global_asymptomatic = np.zeros(364) # IA\n",
        "        self.global_symptomatic = np.zeros(364)\n",
        "        self.global_recovered = np.zeros(364)\n",
        "        self.global_dead = np.zeros(364)\n",
        "\n",
        "        self.susceptible = np.zeros(self.NUM_CITIES)\n",
        "        self.exposed = np.zeros(self.NUM_CITIES)\n",
        "        self.asymptomatic = np.zeros(self.NUM_CITIES)\n",
        "        self.symptomatic = np.zeros(self.NUM_CITIES)\n",
        "        self.recovered = np.zeros(self.NUM_CITIES)\n",
        "        self.dead = np.zeros(self.NUM_CITIES)\n",
        "\n",
        "        self.u_onoff = np.ones([self.NUM_CITIES,364])\n",
        "        self.local_increase = np.zeros(self.NUM_CITIES)\n",
        "        self.death_increase = np.zeros(self.NUM_CITIES)\n",
        "        self.recovered_increase = np.zeros(self.NUM_CITIES)\n",
        "\n",
        "        \n",
        "        self.A, self.population = self.make_world()\n",
        "        self.initial_infected = self.make_initial_infected()\n",
        "\n",
        "        self.ExpPopIn = np.zeros(self.NUM_CITIES)\n",
        "        \n",
        "    \n",
        "    def step(self, action_dict):\n",
        "        \n",
        "        if self.week > 0:\n",
        "            for city in range(self.NUM_CITIES):\n",
        "                self.u_onoff[city,7*self.week:7*self.week+8] = action_dict[city]\n",
        "\n",
        "        symptomatic_prev = copy.deepcopy(self.symptomatic)\n",
        "        dead_prev = copy.deepcopy(self.dead)\n",
        "        recovered_prev = copy.deepcopy(self.recovered)\n",
        "\n",
        "        self.susceptible,self.exposed,self.asymptomatic,self.symptomatic,self.recovered,self.dead,\\\n",
        "        self.global_susceptible,self.global_exposed,self.global_asymptomatic,self.global_symptomatic,\\\n",
        "        self.global_recovered,self.global_dead,self.ExpPopIn =\\\n",
        "        self.run_simulation()\n",
        "        \n",
        "        self.local_increase = self.symptomatic - symptomatic_prev\n",
        "        self.death_increase = self.dead - dead_prev\n",
        "        self.recovered_increase = self.recovered - recovered_prev\n",
        "        \n",
        "        reward = {city: self.get_reward(city) for city in range(self.NUM_CITIES)}\n",
        "        \n",
        "        observation = {city: self.get_observation(city) for city in range(self.NUM_CITIES)}\n",
        "        \n",
        "        self.week += 1\n",
        "        if self.week == self.max_week:\n",
        "            \n",
        "            colors = plt.rcParams['axes.prop_cycle'].by_key()['color']\n",
        "\n",
        "            fig, ax = plt.subplots(1)\n",
        "            (pd.DataFrame(self.global_susceptible)).plot(color=colors[0], linestyle='-', label='Susceptible', ax=ax)\n",
        "            (pd.DataFrame(self.global_exposed)).plot(color=colors[4], linestyle='-', label='Exposed', ax=ax)\n",
        "            (pd.DataFrame(self.global_asymptomatic)).plot(color=colors[1], linestyle=':', label='Asymptomatic', ax=ax)\n",
        "            (pd.DataFrame(self.global_symptomatic)).plot(color=colors[1], linestyle='--', label='Symptomatic', ax=ax)\n",
        "            (pd.DataFrame(self.global_recovered)).plot(color=colors[2], linestyle='-', label='Recovered', ax=ax)\n",
        "            (pd.DataFrame(self.global_dead)).plot(color=colors[7], linestyle='-', label='Dead', ax=ax)\n",
        "\n",
        "            ax.legend(['Susceptible','Exposed','Asymptomatic','Symptomatic','Recovered','Dead'])\n",
        "            ax.set_xlabel('Time')\n",
        "            ax.set_ylabel('Population')\n",
        "            filename  = datetime.datetime.now().strftime('%Y%m%d_%H%M%S')\n",
        "            plt.savefig(filename + '.png', format=\"png\", dpi=150)\n",
        "            plt.close()\n",
        "            \n",
        "        done = {\"__all__\": self.week >= self.max_week,}\n",
        "        info = {}\n",
        "        \n",
        "        return observation, reward, done, info\n",
        "\n",
        "\n",
        "    def get_reward(self,city):\n",
        "        return (self.get_step_reward(city)+self.get_terminal_reward(city))/2\n",
        "\n",
        "\n",
        "    def get_step_reward(self, city): \n",
        "      #add self.C_INF*\n",
        "      #add self.C_RECOVER*self.recovered_increase[city]\n",
        "        return -1 * (self.C_DEAD*self.death_increase[city] +self.C_INF*self.local_increase[city] + self.C_RECOVER*self.recovered_increase[city] + self.C_LOCK*(1-self.u_onoff[city, 7*(self.week-1)]))/self.population[city]\n",
        "\n",
        "\n",
        "    def get_terminal_reward(self, city):\n",
        "      #여기서도 논문에 없던 C_BETA가 곱해지고, 해당 도시의 인구로 나누는 부분이 누락됨.\n",
        "        return self.C_ALPHA-(self.C_DEAD*self.dead[city]/self.population[city] + self.C_INF*self.symptomatic[city]/self.population[city] + \\\n",
        "                                                                          self.C_LOCK*(364-sum(self.u_onoff[city]) + self.C_RECOVER*self.recovered[city]/self.population[city]))\n",
        "\n",
        "\n",
        "    def get_observation(self, city):\n",
        "        return np.hstack([self.population[city], self.symptomatic[city]/self.population[city], sum(self.symptomatic)/sum(self.population),\\\n",
        "                           self.recovered[city]/self.population[city], self.dead[city]/self.population[city], self.ExpPopIn[city],\\\n",
        "                          self.local_increase[city]/self.population[city], sum(self.local_increase)/sum(self.population)])\n",
        "\n",
        "    def reset(self):\n",
        "        self.week = 0\n",
        "        self.global_susceptible = np.zeros(364)  #[0 * 364]\n",
        "        self.global_exposed = np.zeros(364)\n",
        "        self.global_asymptomatic = np.zeros(364)\n",
        "        self.global_symptomatic = np.zeros(364)\n",
        "        self.global_recovered = np.zeros(364)\n",
        "        self.global_dead = np.zeros(364)\n",
        "\n",
        "        self.susceptible = np.zeros(self.NUM_CITIES)\n",
        "        self.exposed = np.zeros(self.NUM_CITIES)\n",
        "        self.asymptomatic = np.zeros(self.NUM_CITIES)\n",
        "        self.symptomatic = np.zeros(self.NUM_CITIES)\n",
        "        self.recovered = np.zeros(self.NUM_CITIES)\n",
        "        self.dead = np.zeros(self.NUM_CITIES)\n",
        "\n",
        "        self.u_onoff = np.ones([self.NUM_CITIES,364])\n",
        "\n",
        "        self.local_increase = np.zeros(self.NUM_CITIES)\n",
        "        self.death_increase = np.zeros(self.NUM_CITIES)\n",
        "\n",
        "        return {city: self.get_observation(city) for city in range(self.NUM_CITIES)}\n",
        "\n",
        "    \n",
        "    def render(self, mode):\n",
        "        pass\n",
        "    \n",
        "    \n",
        "    def close(self):\n",
        "        pass\n",
        "\n",
        "    \n",
        "    def seed(self):\n",
        "        pass\n",
        "\n",
        "\n",
        "    def run_simulation(self):\n",
        "\n",
        "        week = self.week\n",
        "        u_onoff = self.u_onoff\n",
        "\n",
        "        ExpPopIn_a = np.zeros(self.NUM_CITIES)\n",
        "        for day in range(7):\n",
        "            for city in range(self.NUM_CITIES):\n",
        "\n",
        "                if week == 0 and day == 0:\n",
        "                    I0 = self.initial_infected[city]\n",
        "                    N = self.population[city]\n",
        "                    S = N-I0\n",
        "                    Ia = 0\n",
        "                    Is = I0\n",
        "                    E = 0\n",
        "                    R = 0\n",
        "                    D = 0\n",
        "                else:\n",
        "                    S = self.susceptible[city]\n",
        "                    Ia = self.asymptomatic[city]\n",
        "                    Is = self.symptomatic[city]\n",
        "                    E = self.exposed[city]\n",
        "                    R = self.recovered[city]\n",
        "                    D = self.dead[city]\n",
        "\n",
        "                SEIIRD = EpiModel()\n",
        "\n",
        "                #rbeta = 0.95\n",
        "                pa = 0.2 # 확진자가 증상 미발현 확률\n",
        "                #R0 = 1.7\n",
        "\n",
        "                beta = .9 # infection rate\n",
        "                mu = 0.04 # recover rate\n",
        "\n",
        "                epsilon = .07 # 확진될 확률\n",
        "\n",
        "                PD = .02 # IA or IS -> D \n",
        "                ExpPopIn = 0 #해당도시가 다른 도시의 무증상 감염자로부터 얼마나 노출되어 있는지\n",
        "                if self.u_onoff[city,7*week+day] == 1:# 락다운 안할시!\n",
        "                    SEIIRD.add_spontaneous('S', 'E', .07) #자동으로 변하는 수치. 감염자=>면역자.. 여기선 매일 S를 E로 바꾸는데 아래처럼 바꿔야 하지 않을까?\n",
        "                    #SEIIRD.add_interaction('S', 'I', .??)\n",
        "                    SEIIRD.add_interaction('S', 'E', 'Is',  0.1) # S와 E가 만났을때 0.1확률로 S가 IS(증상 감염자)가 된다는 것.\n",
        "                    SEIIRD.add_interaction('S', 'E', 'Ia',  0.1) # IS가 될확률과 IA가 될 확률이 같아도 될까?\n",
        "                    ExpPopIn = 0\n",
        "                    for othercity in range(self.NUM_CITIES):\n",
        "                        ExpPopIn += self.A[city,othercity]*self.u_onoff[othercity,day]*self.asymptomatic[othercity]\n",
        "                    SEIIRD.add_interaction('S', 'E', 'ExpPopIn', 0.1) #S가 E를 만나 ExpPopIn이 될 확률 0.1\n",
        "                    SEIIRD.add_spontaneous('E', 'Ia', epsilon*pa)\n",
        "                    SEIIRD.add_spontaneous('E', 'Is', epsilon*(1-pa))\n",
        "                    SEIIRD.add_spontaneous('Ia', 'R', mu)\n",
        "                    SEIIRD.add_spontaneous('Is', 'R', (1-PD)*mu)\n",
        "                    SEIIRD.add_spontaneous('Is', 'D', PD*mu)\n",
        "                    SEIIRD.integrate(3, S=S, Ia=Ia, Is=Is, E=E, R=R, D=D, ExpPopIn=ExpPopIn) #하루에 3번 발생\n",
        "                else: #락다운 할시\n",
        "                    SEIIRD.add_spontaneous('S', 'E', 0)\n",
        "                    SEIIRD.add_interaction('S', 'E', 'Ia', 0.01)\n",
        "                    SEIIRD.add_spontaneous('E', 'Ia', epsilon*pa)\n",
        "                    SEIIRD.add_spontaneous('E', 'Is', epsilon*(1-pa))\n",
        "                    SEIIRD.add_spontaneous('Ia', 'R', mu)\n",
        "                    SEIIRD.add_spontaneous('Is', 'R', (1-PD)*mu)\n",
        "                    SEIIRD.add_spontaneous('Is', 'D', PD*mu)\n",
        "                    SEIIRD.integrate(3, S=S, Ia=Ia, Is=Is, E=E, R=R, D=D)\n",
        "\n",
        "                self.susceptible[city] = SEIIRD.S[2]\n",
        "                self.exposed[city] = SEIIRD.E[2]\n",
        "                self.asymptomatic[city] = SEIIRD.Ia[2]\n",
        "                self.symptomatic[city] = SEIIRD.Is[2]\n",
        "                self.recovered[city] = SEIIRD.R[2]\n",
        "                self.dead[city] = SEIIRD.D[2]\n",
        "\n",
        "                ExpPopIn_a[city] = ExpPopIn\n",
        "\n",
        "            self.global_susceptible[7*week+day] = sum(self.susceptible)\n",
        "            self.global_exposed[7*week+day] = sum(self.exposed)\n",
        "            self.global_asymptomatic[7*week+day] = sum(self.asymptomatic)\n",
        "            self.global_symptomatic[7*week+day] = sum(self.symptomatic)\n",
        "            self.global_recovered[7*week+day] = sum(self.recovered)\n",
        "            self.global_dead[7*week+day] = sum(self.dead)\n",
        "\n",
        "        return self.susceptible,self.exposed,self.asymptomatic,self.symptomatic,self.recovered,self.dead,\\\n",
        "          self.global_susceptible,self.global_exposed,self.global_asymptomatic,self.global_symptomatic,self.global_recovered,self.global_dead, ExpPopIn_a\n",
        "\n",
        "\n",
        "    \n",
        "    def make_world(self):\n",
        "        population = np.random.randint(1, 3, self.NUM_CITIES).astype('int64')\n",
        "        population[0] = 9770638\n",
        "        population[1] = 3436230\n",
        "        population[2] = 2458138\n",
        "        population[3] = 2956063\n",
        "        population[4] = 1459208\n",
        "        population[5] = 1487605\n",
        "        population[6] = 1153735\n",
        "        population[7] = 320326\n",
        "        population[8] = 13104696\n",
        "        population[9] = 1540445\n",
        "        population[10] = 1598868\n",
        "        population[11] = 2125372\n",
        "        population[12] = 1832227\n",
        "        population[13] = 1875862\n",
        "        population[14] = 2671587\n",
        "        population[15] = 3371016\n",
        "        population[16] = 667522\n",
        "        locs = np.random.rand(self.NUM_CITIES, 2)\n",
        "        locs[0] = [37.5665, 126.9780]\n",
        "        locs[1] = [35.1796, 129.0756]\n",
        "        locs[2] = [ 35.8714, 128.6014]\n",
        "        locs[3] = [ 37.4563, 126.7052]\n",
        "        locs[4] = [35.1595, 126.8526]\n",
        "        locs[5] = [36.3504, 127.3845]\n",
        "        locs[6] = [35.5384, 129.3114]\n",
        "        locs[7] = [36.5, 127.266667]\n",
        "        locs[8] = [37.4138, 127.5183]\n",
        "        locs[9] = [37.8228, 128.1555]\n",
        "        locs[10] = [36.8000, 127.7000]\n",
        "        locs[11] = [36.5184, 126.8000]\n",
        "        locs[12] = [35.7175, 127.1530]\n",
        "        locs[13] = [34.8679, 126.9910]\n",
        "        locs[14] = [36.4919, 128.8889]\n",
        "        locs[15] = [35.4606, 128.2132]\n",
        "        locs[16] = [33.4996, 126.5312]\n",
        "\n",
        "        A = np.outer(population,population)/(np.sqrt(squareform(pdist(locs)))+np.eye(len(locs)))\n",
        "        np.fill_diagonal(A, 0)\n",
        "        A = A/np.max(A)\n",
        "        \n",
        "        return A, population\n",
        "\n",
        "\n",
        "    def make_initial_infected(self):\n",
        "        total = self.NUM_INITIAL_INFECTED\n",
        "        initial_infected = []\n",
        "        for i in range(self.NUM_CITIES-1):\n",
        "            val = np.random.randint(0, total)\n",
        "            initial_infected.append(val)\n",
        "            total -= val\n",
        "        initial_infected.append(total)\n",
        "        \n",
        "        return initial_infected"
      ],
      "execution_count": 8,
      "outputs": []
    },
    {
      "cell_type": "code",
      "metadata": {
        "id": "M7pvumk3d5Yt",
        "colab_type": "code",
        "colab": {}
      },
      "source": [
        "np.outer()"
      ],
      "execution_count": null,
      "outputs": []
    },
    {
      "cell_type": "markdown",
      "metadata": {
        "id": "L2K5qjuJXiGW",
        "colab_type": "text"
      },
      "source": [
        "## Make Keras NN model"
      ]
    },
    {
      "cell_type": "code",
      "metadata": {
        "id": "hFdRVcm8IHxb",
        "colab_type": "code",
        "colab": {
          "base_uri": "https://localhost:8080/",
          "height": 34
        },
        "outputId": "7713c006-c845-4c40-9304-aea7d42f37fa"
      },
      "source": [
        "from ray.rllib.models.tf.tf_modelv2 import TFModelV2\n",
        "from ray.rllib.utils import try_import_tf\n",
        "\n",
        "tf = try_import_tf()\n",
        "print('version of tf : ',tf)\n",
        "\n",
        "\n",
        "class DistributionalQTFModel(TFModelV2):\n",
        "    \"\"\"Extension of standard TFModel to provide distributional Q values.\n",
        "    It also supports options for noisy nets and parameter space noise.\n",
        "    Data flow:\n",
        "        obs -> forward() -> model_out\n",
        "        model_out -> get_q_value_distributions() -> Q(s, a) atoms\n",
        "        model_out -> get_state_value() -> V(s)\n",
        "    Note that this class by itself is not a valid model unless you\n",
        "    implement forward() in a subclass.\"\"\"\n",
        "\n",
        "    def __init__(\n",
        "            self,\n",
        "            obs_space,\n",
        "            action_space,\n",
        "            num_outputs,\n",
        "            model_config,\n",
        "            name,\n",
        "            q_hiddens=(256, ),\n",
        "            dueling=False,\n",
        "            num_atoms=1,\n",
        "            use_noisy=False,\n",
        "            v_min=-10.0,\n",
        "            v_max=10.0,\n",
        "            sigma0=0.1,\n",
        "            # TODO(sven): Move `add_layer_norm` into ModelCatalog as\n",
        "            #  generic option, then error if we use ParameterNoise as\n",
        "            #  Exploration type and do not have any LayerNorm layers in\n",
        "            #  the net.\n",
        "            add_layer_norm=False):\n",
        "        \"\"\"Initialize variables of this model.\n",
        "        Extra model kwargs:\n",
        "            q_hiddens (List[int]): List of layer-sizes after(!) the\n",
        "                Advantages(A)/Value(V)-split. Hence, each of the A- and V-\n",
        "                branches will have this structure of Dense layers. To define\n",
        "                the NN before this A/V-split, use - as always -\n",
        "                config[\"model\"][\"fcnet_hiddens\"].\n",
        "            dueling (bool): Whether to build the advantage(A)/value(V) heads\n",
        "                for DDQN. If True, Q-values are calculated as:\n",
        "                Q = (A - mean[A]) + V. If False, raw NN output is interpreted\n",
        "                as Q-values.\n",
        "            num_atoms (int): if >1, enables distributional DQN\n",
        "            use_noisy (bool): use noisy nets\n",
        "            v_min (float): min value support for distributional DQN\n",
        "            v_max (float): max value support for distributional DQN\n",
        "            sigma0 (float): initial value of noisy nets\n",
        "            add_layer_norm (bool): Add a LayerNorm after each layer..\n",
        "        Note that the core layers for forward() are not defined here, this\n",
        "        only defines the layers for the Q head. Those layers for forward()\n",
        "        should be defined in subclasses of DistributionalQModel.\n",
        "        \"\"\"\n",
        "\n",
        "        super(DistributionalQTFModel, self).__init__(\n",
        "            obs_space, action_space, num_outputs, model_config, name)\n",
        "\n",
        "        # setup the Q head output (i.e., model for get_q_values)\n",
        "        self.model_out = tf.keras.layers.Input(\n",
        "            shape=(num_outputs, ), name=\"model_out\")\n",
        "\n",
        "        def build_action_value(model_out):\n",
        "            if q_hiddens:\n",
        "                action_out = model_out\n",
        "                for i in range(len(q_hiddens)):\n",
        "                    if use_noisy:\n",
        "                        action_out = self._noisy_layer(\n",
        "                            \"hidden_%d\" % i, action_out, q_hiddens[i], sigma0)\n",
        "                    elif add_layer_norm:\n",
        "                        action_out = tf.keras.layers.Dense(\n",
        "                            units=q_hiddens[i],\n",
        "                            activation=tf.nn.relu)(action_out)\n",
        "                        action_out = \\\n",
        "                            tf.keras.layers.LayerNormalization()(\n",
        "                                action_out)\n",
        "                    else:\n",
        "                        action_out = tf.keras.layers.Dense(\n",
        "                            units=q_hiddens[i],\n",
        "                            activation=tf.nn.relu,\n",
        "                            name=\"hidden_%d\" % i)(action_out)\n",
        "            else:\n",
        "                # Avoid postprocessing the outputs. This enables custom models\n",
        "                # to be used for parametric action DQN.\n",
        "                action_out = model_out\n",
        "\n",
        "            if use_noisy:\n",
        "                action_scores = self._noisy_layer(\n",
        "                    \"output\",\n",
        "                    action_out,\n",
        "                    self.action_space.n * num_atoms,\n",
        "                    sigma0,\n",
        "                    non_linear=False)\n",
        "            elif q_hiddens:\n",
        "                action_scores = tf.keras.layers.Dense(\n",
        "                    units=self.action_space.n * num_atoms,\n",
        "                    activation=None)(action_out)\n",
        "            else:\n",
        "                action_scores = model_out\n",
        "\n",
        "            if num_atoms > 1:\n",
        "                # Distributional Q-learning uses a discrete support z\n",
        "                # to represent the action value distribution\n",
        "                z = tf.range(num_atoms, dtype=tf.float32)\n",
        "                z = v_min + z * (v_max - v_min) / float(num_atoms - 1)\n",
        "\n",
        "                def _layer(x):\n",
        "                    support_logits_per_action = tf.reshape(\n",
        "                        tensor=x, shape=(-1, self.action_space.n, num_atoms))\n",
        "                    support_prob_per_action = tf.nn.softmax(\n",
        "                        logits=support_logits_per_action)\n",
        "                    x = tf.reduce_sum(\n",
        "                        input_tensor=z * support_prob_per_action, axis=-1)\n",
        "                    logits = support_logits_per_action\n",
        "                    dist = support_prob_per_action\n",
        "                    return [x, z, support_logits_per_action, logits, dist]\n",
        "\n",
        "                return tf.keras.layers.Lambda(_layer)(action_scores)\n",
        "            else:\n",
        "                logits = tf.expand_dims(tf.ones_like(action_scores), -1)\n",
        "                dist = tf.expand_dims(tf.ones_like(action_scores), -1)\n",
        "                return [action_scores, logits, dist]\n",
        "\n",
        "        def build_state_score(model_out):\n",
        "            state_out = model_out\n",
        "            for i in range(len(q_hiddens)):\n",
        "                if use_noisy:\n",
        "                    state_out = self._noisy_layer(\"dueling_hidden_%d\" % i,\n",
        "                                                  state_out, q_hiddens[i],\n",
        "                                                  sigma0)\n",
        "                else:\n",
        "                    state_out = tf.keras.layers.Dense(\n",
        "                        units=q_hiddens[i], activation=tf.nn.relu)(state_out)\n",
        "                    if add_layer_norm:\n",
        "                        state_out = tf.keras.layers.LayerNormalization()(\n",
        "                            state_out)\n",
        "            if use_noisy:\n",
        "                state_score = self._noisy_layer(\n",
        "                    \"dueling_output\",\n",
        "                    state_out,\n",
        "                    num_atoms,\n",
        "                    sigma0,\n",
        "                    non_linear=False)\n",
        "            else:\n",
        "                state_score = tf.keras.layers.Dense(\n",
        "                    units=num_atoms, activation=None)(state_out)\n",
        "            return state_score\n",
        "\n",
        "        if tf.executing_eagerly():\n",
        "            from tensorflow.python.ops import variable_scope\n",
        "            # Have to use a variable store to reuse variables in eager mode\n",
        "            store = variable_scope.EagerVariableStore()\n",
        "\n",
        "            # Save the scope objects, since in eager we will execute this\n",
        "            # path repeatedly and there is no guarantee it will always be run\n",
        "            # in the same original scope.\n",
        "            with tf.variable_scope(name + \"/action_value\") as action_scope:\n",
        "                pass\n",
        "            with tf.variable_scope(name + \"/state_value\") as state_scope:\n",
        "                pass\n",
        "\n",
        "            def build_action_value_in_scope(model_out):\n",
        "                with store.as_default():\n",
        "                    with tf.variable_scope(action_scope, reuse=tf.AUTO_REUSE):\n",
        "                        return build_action_value(model_out)\n",
        "\n",
        "            def build_state_score_in_scope(model_out):\n",
        "                with store.as_default():\n",
        "                    with tf.variable_scope(state_scope, reuse=tf.AUTO_REUSE):\n",
        "                        return build_state_score(model_out)\n",
        "        else:\n",
        "\n",
        "            def build_action_value_in_scope(model_out):\n",
        "                with tf.variable_scope(\n",
        "                        name + \"/action_value\", reuse=tf.AUTO_REUSE):\n",
        "                    return build_action_value(model_out)\n",
        "\n",
        "            def build_state_score_in_scope(model_out):\n",
        "                with tf.variable_scope(\n",
        "                        name + \"/state_value\", reuse=tf.AUTO_REUSE):\n",
        "                    return build_state_score(model_out)\n",
        "\n",
        "        q_out = build_action_value_in_scope(self.model_out)\n",
        "        self.q_value_head = tf.keras.Model(self.model_out, q_out)\n",
        "        self.register_variables(self.q_value_head.variables)\n",
        "\n",
        "        if dueling:\n",
        "            state_out = build_state_score_in_scope(self.model_out)\n",
        "            self.state_value_head = tf.keras.Model(self.model_out, state_out)\n",
        "            self.register_variables(self.state_value_head.variables)\n",
        "\n",
        "    def get_q_value_distributions(self, model_out):\n",
        "        \"\"\"Returns distributional values for Q(s, a) given a state embedding.\n",
        "        Override this in your custom model to customize the Q output head.\n",
        "        Arguments:\n",
        "            model_out (Tensor): embedding from the model layers\n",
        "        Returns:\n",
        "            (action_scores, logits, dist) if num_atoms == 1, otherwise\n",
        "            (action_scores, z, support_logits_per_action, logits, dist)\n",
        "        \"\"\"\n",
        "\n",
        "        return self.q_value_head(model_out)\n",
        "\n",
        "    def get_state_value(self, model_out):\n",
        "        \"\"\"Returns the state value prediction for the given state embedding.\"\"\"\n",
        "\n",
        "        return self.state_value_head(model_out)\n",
        "\n",
        "    def _noisy_layer(self,\n",
        "                     prefix,\n",
        "                     action_in,\n",
        "                     out_size,\n",
        "                     sigma0,\n",
        "                     non_linear=True):\n",
        "        \"\"\"\n",
        "        a common dense layer: y = w^{T}x + b\n",
        "        a noisy layer: y = (w + \\\\epsilon_w*\\\\sigma_w)^{T}x +\n",
        "            (b+\\\\epsilon_b*\\\\sigma_b)\n",
        "        where \\epsilon are random variables sampled from factorized normal\n",
        "        distributions and \\\\sigma are trainable variables which are expected to\n",
        "        vanish along the training procedure\n",
        "        \"\"\"\n",
        "        in_size = int(action_in.shape[1])\n",
        "\n",
        "        epsilon_in = tf.random_normal(shape=[in_size])\n",
        "        epsilon_out = tf.random_normal(shape=[out_size])\n",
        "        epsilon_in = self._f_epsilon(epsilon_in)\n",
        "        epsilon_out = self._f_epsilon(epsilon_out)\n",
        "        epsilon_w = tf.matmul(\n",
        "            a=tf.expand_dims(epsilon_in, -1), b=tf.expand_dims(epsilon_out, 0))\n",
        "        epsilon_b = epsilon_out\n",
        "        sigma_w = tf.get_variable(\n",
        "            name=prefix + \"_sigma_w\",\n",
        "            shape=[in_size, out_size],\n",
        "            dtype=tf.float32,\n",
        "            initializer=tf.random_uniform_initializer(\n",
        "                minval=-1.0 / np.sqrt(float(in_size)),\n",
        "                maxval=1.0 / np.sqrt(float(in_size))))\n",
        "        # TF noise generation can be unreliable on GPU\n",
        "        # If generating the noise on the CPU,\n",
        "        # lowering sigma0 to 0.1 may be helpful\n",
        "        sigma_b = tf.get_variable(\n",
        "            name=prefix + \"_sigma_b\",\n",
        "            shape=[out_size],\n",
        "            dtype=tf.float32,  # 0.5~GPU, 0.1~CPU\n",
        "            initializer=tf.constant_initializer(\n",
        "                sigma0 / np.sqrt(float(in_size))))\n",
        "\n",
        "        w = tf.get_variable(\n",
        "            name=prefix + \"_fc_w\",\n",
        "            shape=[in_size, out_size],\n",
        "            dtype=tf.float32,\n",
        "            initializer=tf.initializers.glorot_uniform())\n",
        "        b = tf.get_variable(\n",
        "            name=prefix + \"_fc_b\",\n",
        "            shape=[out_size],\n",
        "            dtype=tf.float32,\n",
        "            initializer=tf.zeros_initializer())\n",
        "\n",
        "        action_activation = \\\n",
        "            tf.keras.layers.Lambda(lambda x: tf.matmul(\n",
        "                x, w + sigma_w * epsilon_w) + b + sigma_b * epsilon_b)(\n",
        "                action_in)\n",
        "\n",
        "        if not non_linear:\n",
        "            return action_activation\n",
        "        return tf.nn.relu(action_activation)\n",
        "\n",
        "    def _f_epsilon(self, x):\n",
        "        return tf.sign(x) * tf.sqrt(tf.abs(x))"
      ],
      "execution_count": 9,
      "outputs": [
        {
          "output_type": "stream",
          "text": [
            "version of tf :  <module 'tensorflow.compat.v1' from '/usr/local/lib/python3.6/dist-packages/tensorflow/_api/v2/compat/v1/__init__.py'>\n"
          ],
          "name": "stdout"
        }
      ]
    },
    {
      "cell_type": "code",
      "metadata": {
        "id": "ENeO66JMXl8s",
        "colab_type": "code",
        "colab": {}
      },
      "source": [
        "from ray.rllib.utils import try_import_tf\n",
        "\n",
        "tf = try_import_tf()\n",
        "\n",
        "class MyKerasQModel(DistributionalQTFModel):\n",
        "    def __init__(self, obs_space, action_space, num_outputs, model_config,\n",
        "                 name=\"my_model\",**kw):\n",
        "        super(MyKerasQModel, self).__init__(\n",
        "            obs_space, action_space, num_outputs, model_config, name, **kw)\n",
        "        self.inputs = tf.keras.layers.Input(\n",
        "            shape=obs_space.shape, name=\"observations\")\n",
        "        layer_1 = tf.keras.layers.Dense(\n",
        "            12,\n",
        "            name=\"my_layer1\",\n",
        "            activation=tf.nn.relu,\n",
        "            kernel_initializer=tf.keras.initializers.he_normal())(self.inputs)\n",
        "        layer_2 = tf.keras.layers.Dense(\n",
        "            8,\n",
        "            name=\"my_layer2\",\n",
        "            activation=tf.nn.relu,\n",
        "            kernel_initializer=tf.keras.initializers.he_normal())(layer_1)\n",
        "        layer_out = tf.keras.layers.Dense(\n",
        "            num_outputs,\n",
        "            name=\"my_out\",\n",
        "            activation=tf.nn.relu,\n",
        "            kernel_initializer=tf.keras.initializers.he_normal())(layer_2)\n",
        "        self.base_model = tf.keras.Model(self.inputs, layer_out)\n",
        "        self.register_variables(self.base_model.variables)\n",
        "    \n",
        "    def forward(self, input_dict, state, seq_lens):\n",
        "        model_out = self.base_model(input_dict[\"obs\"])\n",
        "        return model_out, state\n",
        "\n",
        "    def metrics(self):\n",
        "        return {\"foo\": tf.constant(42.0)}"
      ],
      "execution_count": 15,
      "outputs": []
    },
    {
      "cell_type": "markdown",
      "metadata": {
        "id": "xiEIL45BXtmv",
        "colab_type": "text"
      },
      "source": [
        "## Reinforcement Learning"
      ]
    },
    {
      "cell_type": "code",
      "metadata": {
        "id": "E7ct0j_V8oJs",
        "colab_type": "code",
        "colab": {}
      },
      "source": [
        "import time\n",
        "from ray.tune.logger import pretty_print\n",
        "from ray.tune.registry import register_env"
      ],
      "execution_count": 33,
      "outputs": []
    },
    {
      "cell_type": "code",
      "metadata": {
        "id": "-Vt3KJe68rTu",
        "colab_type": "code",
        "colab": {}
      },
      "source": [
        "register_env(\"Game\", lambda _: Game())"
      ],
      "execution_count": 34,
      "outputs": []
    },
    {
      "cell_type": "code",
      "metadata": {
        "id": "I6B4uJxc8s9D",
        "colab_type": "code",
        "colab": {
          "base_uri": "https://localhost:8080/",
          "height": 72
        },
        "outputId": "893658fa-4b26-4be9-a2dc-549d0db979f0"
      },
      "source": [
        "import ray\n",
        "\n",
        "ray.init(webui_host='127.0.0.1', num_gpus = 2)\n",
        "time.sleep(60)"
      ],
      "execution_count": 35,
      "outputs": [
        {
          "output_type": "stream",
          "text": [
            "2020-09-19 16:16:16,975\tINFO resource_spec.py:212 -- Starting Ray with 6.98 GiB memory available for workers and up to 3.5 GiB for objects. You can adjust these settings with ray.init(memory=<bytes>, object_store_memory=<bytes>).\n",
            "2020-09-19 16:16:17,422\tINFO services.py:1148 -- View the Ray dashboard at \u001b[1m\u001b[32m127.0.0.1:8265\u001b[39m\u001b[22m\n"
          ],
          "name": "stderr"
        }
      ]
    },
    {
      "cell_type": "code",
      "metadata": {
        "id": "ET_4E2fo_diC",
        "colab_type": "code",
        "colab": {
          "base_uri": "https://localhost:8080/",
          "height": 210
        },
        "outputId": "e54dc170-e72c-47e3-f3b4-9052c5a2587c"
      },
      "source": [
        "!pip install pyngrok"
      ],
      "execution_count": 19,
      "outputs": [
        {
          "output_type": "stream",
          "text": [
            "Collecting pyngrok\n",
            "  Downloading https://files.pythonhosted.org/packages/d1/4e/c050f5ed75f60cca4e9cc0a7056a9b424707a09f6293756e7dd19beb10db/pyngrok-4.1.12.tar.gz\n",
            "Requirement already satisfied: future in /usr/local/lib/python3.6/dist-packages (from pyngrok) (0.16.0)\n",
            "Requirement already satisfied: PyYAML in /usr/local/lib/python3.6/dist-packages (from pyngrok) (3.13)\n",
            "Building wheels for collected packages: pyngrok\n",
            "  Building wheel for pyngrok (setup.py) ... \u001b[?25l\u001b[?25hdone\n",
            "  Created wheel for pyngrok: filename=pyngrok-4.1.12-cp36-none-any.whl size=16810 sha256=21c99ee9b13b27d2e367c9e436143017e8e6afded822036d25b871ed04df1011\n",
            "  Stored in directory: /root/.cache/pip/wheels/69/c3/d6/6968dd4d831794d41c311be1d7af6f4ac151c5d3bd0e6efab8\n",
            "Successfully built pyngrok\n",
            "Installing collected packages: pyngrok\n",
            "Successfully installed pyngrok-4.1.12\n"
          ],
          "name": "stdout"
        }
      ]
    },
    {
      "cell_type": "code",
      "metadata": {
        "id": "eccVo0Qj-xBQ",
        "colab_type": "code",
        "colab": {
          "base_uri": "https://localhost:8080/",
          "height": 35
        },
        "outputId": "b95be9d3-0853-49bf-8af5-2462be039889"
      },
      "source": [
        "from pyngrok import ngrok\n",
        "\n",
        "ngrok.kill()\n",
        "\n",
        "ngrok.set_auth_token(\"1hd4acdMwuZM06DxzmW676JIqdT_7b7p3kCF9LkLiHC8ukVYE\")\n",
        "\n",
        "public_url = ngrok.connect(port='8265')\n",
        "\n",
        "public_url"
      ],
      "execution_count": 20,
      "outputs": [
        {
          "output_type": "stream",
          "text": [
            ""
          ],
          "name": "stdout"
        },
        {
          "output_type": "execute_result",
          "data": {
            "application/vnd.google.colaboratory.intrinsic+json": {
              "type": "string"
            },
            "text/plain": [
              "'http://92c6a89241a5.ngrok.io'"
            ]
          },
          "metadata": {
            "tags": []
          },
          "execution_count": 20
        }
      ]
    },
    {
      "cell_type": "code",
      "metadata": {
        "id": "85YyI3fB8vL3",
        "colab_type": "code",
        "colab": {
          "base_uri": "https://localhost:8080/",
          "height": 87
        },
        "outputId": "685a0baf-f1ac-4c23-b273-bf5e2e94741c"
      },
      "source": [
        "ModelCatalog.register_custom_model(\"MLPModel\", MyKerasQModel)\n",
        "\n",
        "obs_space = gym.spaces.Box(low=float('-inf'), high=float('inf'), shape=(8,))\n",
        "act_space = gym.spaces.Discrete(2)\n",
        "\n",
        "def gen_policy(i):\n",
        "    config = {\n",
        "        \"model\": {\n",
        "            \"custom_model\": \"MLPModel\",\n",
        "        },\n",
        "        \"gamma\": 0.99,\n",
        "    }\n",
        "    return (None, obs_space, act_space, config)\n",
        "\n",
        "policies = {\"policy_0\": gen_policy(0)}\n",
        "policy_ids = list(policies.keys())\n",
        "\n",
        "# trainer = ray.rllib.agents.dqn.ApexTr0ainer(\n",
        "trainer = ray.rllib.agents.dqn.DQNTrainer(\n",
        "    env=\"Game\",\n",
        "    config={\n",
        "        \"env_config\": {},\n",
        "\n",
        "        # General\n",
        "#         \"log_level\": \"ERROR\",\n",
        "\n",
        "        # Method specific\n",
        "        \"multiagent\": {\n",
        "            \"policies\": policies,\n",
        "            \"policy_mapping_fn\": (\n",
        "                lambda agent_id: policy_ids[0]),\n",
        "        },\n",
        "        \"lr\": 0.01\n",
        "    },\n",
        ")"
      ],
      "execution_count": 36,
      "outputs": [
        {
          "output_type": "stream",
          "text": [
            "2020-09-19 16:17:25,774\tERROR logger.py:193 -- pip install 'ray[tune]' to see TensorBoard files.\n",
            "2020-09-19 16:17:25,775\tWARNING logger.py:308 -- Could not instantiate TBXLogger: No module named 'tensorboardX'.\n",
            "2020-09-19 16:17:27,122\tINFO trainable.py:217 -- Getting current IP.\n",
            "2020-09-19 16:17:27,126\tWARNING util.py:37 -- Install gputil for GPU system monitoring.\n"
          ],
          "name": "stderr"
        }
      ]
    },
    {
      "cell_type": "markdown",
      "metadata": {
        "id": "7mRJLQUoXxGk",
        "colab_type": "text"
      },
      "source": [
        "## Run Now!"
      ]
    },
    {
      "cell_type": "code",
      "metadata": {
        "id": "sEfVD1TRmvym",
        "colab_type": "code",
        "colab": {}
      },
      "source": [
        "ray.shutdown()"
      ],
      "execution_count": 32,
      "outputs": []
    },
    {
      "cell_type": "code",
      "metadata": {
        "id": "IwWCwlXyuy4U",
        "colab_type": "code",
        "colab": {}
      },
      "source": [
        "for i in range(5):\n",
        "  print(pretty_print(trainer.train()))"
      ],
      "execution_count": null,
      "outputs": []
    },
    {
      "cell_type": "code",
      "metadata": {
        "id": "OV_FehM_KXb7",
        "colab_type": "code",
        "colab": {}
      },
      "source": [
        ""
      ],
      "execution_count": null,
      "outputs": []
    }
  ]
}